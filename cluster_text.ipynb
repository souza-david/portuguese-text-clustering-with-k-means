{
 "cells": [
  {
   "cell_type": "code",
   "execution_count": 51,
   "id": "d53c6cc2-2369-4761-9981-2fe9c16b56c1",
   "metadata": {},
   "outputs": [],
   "source": [
    "## Importing Libraries:"
   ]
  },
  {
   "cell_type": "code",
   "execution_count": 52,
   "id": "3cb51e9f-caf0-4537-b49c-772f05524d8a",
   "metadata": {},
   "outputs": [],
   "source": [
    "# Data Structures\n",
    "import pandas as pd\n",
    "\n",
    "# Corpus Processing\n",
    "import nltk.corpus"
   ]
  },
  {
   "cell_type": "code",
   "execution_count": 53,
   "id": "40cb0b5f-c6b0-4afb-ad83-f91cc142493a",
   "metadata": {},
   "outputs": [],
   "source": [
    "## Corpus Loading:"
   ]
  },
  {
   "cell_type": "code",
   "execution_count": 54,
   "id": "9f321080-6637-448d-b78c-a1878175c308",
   "metadata": {
    "tags": []
   },
   "outputs": [],
   "source": [
    "data = pd.read_csv('datasets/extracted_text.csv', encoding='utf-8')\n",
    "data.columns = map(str.lower, data.columns)\n",
    "\n",
    "# data.head(6)"
   ]
  },
  {
   "cell_type": "code",
   "execution_count": 55,
   "id": "555a5484-a9c0-464c-ae5c-569dc200723d",
   "metadata": {
    "tags": []
   },
   "outputs": [],
   "source": [
    "corpus = data['comentário'].tolist()\n",
    "# corpus[0:20]"
   ]
  },
  {
   "cell_type": "code",
   "execution_count": 56,
   "id": "dfee124b-dde3-4cc7-b125-7df428014121",
   "metadata": {},
   "outputs": [],
   "source": [
    "## Corpus Processing\n",
    "\n",
    "### 1. Stop Words and Stemming"
   ]
  },
  {
   "cell_type": "code",
   "execution_count": 57,
   "id": "ece1dfc1-baa6-4975-918e-307dd47844b1",
   "metadata": {},
   "outputs": [],
   "source": [
    "# removes a list of words (ie. stopwords) from a tokenized list.\n",
    "def removeWords(listOfTokens, listOfWords):\n",
    "    return [token for token in listOfTokens if token not in listOfWords]\n",
    "\n",
    "# applies stemming to a list of tokenized words\n",
    "def applyStemming(listOfTokens, stemmer):\n",
    "    return [stemmer.stem(token) for token in listOfTokens]\n",
    "\n",
    "# removes any words composed of less than 2 or more than 21 letters\n",
    "def twoLetters(listOfTokens):\n",
    "    twoLetterWord = []\n",
    "    for token in listOfTokens:\n",
    "        if len(token) <= 2 or len(token) >= 21:\n",
    "            twoLetterWord.append(token)\n",
    "    return twoLetterWord"
   ]
  },
  {
   "cell_type": "code",
   "execution_count": 58,
   "id": "9d55247c-1f35-4202-855f-4b817548fc67",
   "metadata": {},
   "outputs": [],
   "source": [
    "### 2. The main corpus processing function."
   ]
  },
  {
   "cell_type": "code",
   "execution_count": 59,
   "id": "c6dd70ff-2f36-40b4-8639-9307cafa1b50",
   "metadata": {},
   "outputs": [],
   "source": [
    "def processCorpus(corpus, language):\n",
    "    nltk.download('stopwords')\n",
    "    stopwords = nltk.corpus.stopwords.words(language)\n",
    "\n",
    "    return corpus"
   ]
  },
  {
   "cell_type": "code",
   "execution_count": 60,
   "id": "ffd3b557-2fd0-402a-97d8-5ae4bf56af60",
   "metadata": {
    "tags": []
   },
   "outputs": [
    {
     "name": "stderr",
     "output_type": "stream",
     "text": [
      "[nltk_data] Downloading package stopwords to /home/jovyan/nltk_data...\n",
      "[nltk_data]   Package stopwords is already up-to-date!\n"
     ]
    }
   ],
   "source": [
    "language = 'portuguese'\n",
    "corpus = processCorpus(corpus, language)\n",
    "# corpus[0:20]"
   ]
  },
  {
   "cell_type": "code",
   "execution_count": null,
   "id": "e9d4a8f7-b4b8-436e-a9ce-aff9cccc09a9",
   "metadata": {},
   "outputs": [],
   "source": []
  }
 ],
 "metadata": {
  "kernelspec": {
   "display_name": "Python 3 (ipykernel)",
   "language": "python",
   "name": "python3"
  },
  "language_info": {
   "codemirror_mode": {
    "name": "ipython",
    "version": 3
   },
   "file_extension": ".py",
   "mimetype": "text/x-python",
   "name": "python",
   "nbconvert_exporter": "python",
   "pygments_lexer": "ipython3",
   "version": "3.9.12"
  }
 },
 "nbformat": 4,
 "nbformat_minor": 5
}
