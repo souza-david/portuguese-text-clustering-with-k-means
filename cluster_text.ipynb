{
 "cells": [
  {
   "cell_type": "code",
   "execution_count": 4,
   "id": "d53c6cc2-2369-4761-9981-2fe9c16b56c1",
   "metadata": {},
   "outputs": [],
   "source": [
    "## Importing Libraries:"
   ]
  },
  {
   "cell_type": "code",
   "execution_count": 30,
   "id": "3cb51e9f-caf0-4537-b49c-772f05524d8a",
   "metadata": {},
   "outputs": [
    {
     "name": "stderr",
     "output_type": "stream",
     "text": [
      "[nltk_data] Downloading package stopwords to /home/jovyan/nltk_data...\n",
      "[nltk_data]   Unzipping corpora/stopwords.zip.\n"
     ]
    },
    {
     "data": {
      "text/plain": [
       "True"
      ]
     },
     "execution_count": 30,
     "metadata": {},
     "output_type": "execute_result"
    }
   ],
   "source": [
    "# Data Structures\n",
    "import pandas as pd\n",
    "\n",
    "# Corpus Processing\n",
    "import nltk.corpus"
   ]
  },
  {
   "cell_type": "code",
   "execution_count": 2,
   "id": "40cb0b5f-c6b0-4afb-ad83-f91cc142493a",
   "metadata": {},
   "outputs": [],
   "source": [
    "## Corpus Loading:"
   ]
  },
  {
   "cell_type": "code",
   "execution_count": 6,
   "id": "9f321080-6637-448d-b78c-a1878175c308",
   "metadata": {},
   "outputs": [
    {
     "data": {
      "text/html": [
       "<div>\n",
       "<style scoped>\n",
       "    .dataframe tbody tr th:only-of-type {\n",
       "        vertical-align: middle;\n",
       "    }\n",
       "\n",
       "    .dataframe tbody tr th {\n",
       "        vertical-align: top;\n",
       "    }\n",
       "\n",
       "    .dataframe thead th {\n",
       "        text-align: right;\n",
       "    }\n",
       "</style>\n",
       "<table border=\"1\" class=\"dataframe\">\n",
       "  <thead>\n",
       "    <tr style=\"text-align: right;\">\n",
       "      <th></th>\n",
       "      <th>number</th>\n",
       "      <th>user</th>\n",
       "      <th>date submitted</th>\n",
       "      <th>country</th>\n",
       "      <th>source url</th>\n",
       "      <th>device</th>\n",
       "      <th>browser</th>\n",
       "      <th>os</th>\n",
       "      <th>hotjar user id</th>\n",
       "      <th>como você avaliaria sua satisfação com o preenchimento do currículo da gupy?</th>\n",
       "      <th>comentário</th>\n",
       "    </tr>\n",
       "  </thead>\n",
       "  <tbody>\n",
       "    <tr>\n",
       "      <th>0</th>\n",
       "      <td>11958</td>\n",
       "      <td>a7e27849</td>\n",
       "      <td>2022-05-25 19:24:39</td>\n",
       "      <td>Brazil</td>\n",
       "      <td>https://sicredi.gupy.io/candidates/application...</td>\n",
       "      <td>phone</td>\n",
       "      <td>Mobile Safari UI/WKWebView</td>\n",
       "      <td>iOS 15.4.1</td>\n",
       "      <td>a7e27849-b8a4-558b-ac2f-240da4d918fa</td>\n",
       "      <td>4</td>\n",
       "      <td>NaN</td>\n",
       "    </tr>\n",
       "    <tr>\n",
       "      <th>1</th>\n",
       "      <td>11957</td>\n",
       "      <td>21cbd0cc</td>\n",
       "      <td>2022-05-25 19:24:22</td>\n",
       "      <td>Brazil</td>\n",
       "      <td>https://sicredi.gupy.io/candidates/application...</td>\n",
       "      <td>phone</td>\n",
       "      <td>Chrome Mobile 101.0.4951</td>\n",
       "      <td>Android 12</td>\n",
       "      <td>21cbd0cc-88d9-5515-aef2-d754c584f64b</td>\n",
       "      <td>5</td>\n",
       "      <td>.</td>\n",
       "    </tr>\n",
       "    <tr>\n",
       "      <th>2</th>\n",
       "      <td>11956</td>\n",
       "      <td>2246a0b5</td>\n",
       "      <td>2022-05-25 19:22:36</td>\n",
       "      <td>Brazil</td>\n",
       "      <td>https://jadlog.gupy.io/candidates/applications...</td>\n",
       "      <td>desktop</td>\n",
       "      <td>Chrome 101.0.4951</td>\n",
       "      <td>Windows 8.1</td>\n",
       "      <td>2246a0b5-2f0d-54ff-839a-4dce66092fd4</td>\n",
       "      <td>5</td>\n",
       "      <td>Foi muito tranquilo e rápido</td>\n",
       "    </tr>\n",
       "    <tr>\n",
       "      <th>3</th>\n",
       "      <td>11955</td>\n",
       "      <td>908e7ea5</td>\n",
       "      <td>2022-05-25 19:15:22</td>\n",
       "      <td>Brazil</td>\n",
       "      <td>https://dock.gupy.io/candidates/applications/1...</td>\n",
       "      <td>phone</td>\n",
       "      <td>Chrome Mobile 101.0.4951</td>\n",
       "      <td>Android 11</td>\n",
       "      <td>908e7ea5-216c-55eb-bf68-8092c03f316c</td>\n",
       "      <td>5</td>\n",
       "      <td>NaN</td>\n",
       "    </tr>\n",
       "    <tr>\n",
       "      <th>4</th>\n",
       "      <td>11954</td>\n",
       "      <td>fb19dfa4</td>\n",
       "      <td>2022-05-25 19:10:06</td>\n",
       "      <td>Brazil</td>\n",
       "      <td>https://hrsbc.gupy.io/candidates/applications/...</td>\n",
       "      <td>desktop</td>\n",
       "      <td>Chrome 102.0.5005</td>\n",
       "      <td>Windows 10</td>\n",
       "      <td>fb19dfa4-8a8e-5d94-8332-56d037da812e</td>\n",
       "      <td>5</td>\n",
       "      <td>NaN</td>\n",
       "    </tr>\n",
       "    <tr>\n",
       "      <th>5</th>\n",
       "      <td>11953</td>\n",
       "      <td>916f2c49</td>\n",
       "      <td>2022-05-25 19:07:45</td>\n",
       "      <td>Brazil</td>\n",
       "      <td>https://davitatratamentorenal.gupy.io/candidat...</td>\n",
       "      <td>desktop</td>\n",
       "      <td>Chrome 101.0.4951</td>\n",
       "      <td>Windows 10</td>\n",
       "      <td>916f2c49-c951-56f7-a2b0-e0b0dc87e064</td>\n",
       "      <td>5</td>\n",
       "      <td>NaN</td>\n",
       "    </tr>\n",
       "  </tbody>\n",
       "</table>\n",
       "</div>"
      ],
      "text/plain": [
       "   number      user       date submitted country  \\\n",
       "0   11958  a7e27849  2022-05-25 19:24:39  Brazil   \n",
       "1   11957  21cbd0cc  2022-05-25 19:24:22  Brazil   \n",
       "2   11956  2246a0b5  2022-05-25 19:22:36  Brazil   \n",
       "3   11955  908e7ea5  2022-05-25 19:15:22  Brazil   \n",
       "4   11954  fb19dfa4  2022-05-25 19:10:06  Brazil   \n",
       "5   11953  916f2c49  2022-05-25 19:07:45  Brazil   \n",
       "\n",
       "                                          source url   device  \\\n",
       "0  https://sicredi.gupy.io/candidates/application...    phone   \n",
       "1  https://sicredi.gupy.io/candidates/application...    phone   \n",
       "2  https://jadlog.gupy.io/candidates/applications...  desktop   \n",
       "3  https://dock.gupy.io/candidates/applications/1...    phone   \n",
       "4  https://hrsbc.gupy.io/candidates/applications/...  desktop   \n",
       "5  https://davitatratamentorenal.gupy.io/candidat...  desktop   \n",
       "\n",
       "                      browser           os  \\\n",
       "0  Mobile Safari UI/WKWebView   iOS 15.4.1   \n",
       "1    Chrome Mobile 101.0.4951   Android 12   \n",
       "2           Chrome 101.0.4951  Windows 8.1   \n",
       "3    Chrome Mobile 101.0.4951   Android 11   \n",
       "4           Chrome 102.0.5005   Windows 10   \n",
       "5           Chrome 101.0.4951   Windows 10   \n",
       "\n",
       "                         hotjar user id  \\\n",
       "0  a7e27849-b8a4-558b-ac2f-240da4d918fa   \n",
       "1  21cbd0cc-88d9-5515-aef2-d754c584f64b   \n",
       "2  2246a0b5-2f0d-54ff-839a-4dce66092fd4   \n",
       "3  908e7ea5-216c-55eb-bf68-8092c03f316c   \n",
       "4  fb19dfa4-8a8e-5d94-8332-56d037da812e   \n",
       "5  916f2c49-c951-56f7-a2b0-e0b0dc87e064   \n",
       "\n",
       "   como você avaliaria sua satisfação com o preenchimento do currículo da gupy?   \\\n",
       "0                                                  4                               \n",
       "1                                                  5                               \n",
       "2                                                  5                               \n",
       "3                                                  5                               \n",
       "4                                                  5                               \n",
       "5                                                  5                               \n",
       "\n",
       "                     comentário  \n",
       "0                           NaN  \n",
       "1                             .  \n",
       "2  Foi muito tranquilo e rápido  \n",
       "3                           NaN  \n",
       "4                           NaN  \n",
       "5                           NaN  "
      ]
     },
     "execution_count": 6,
     "metadata": {},
     "output_type": "execute_result"
    }
   ],
   "source": [
    "data = pd.read_csv('datasets/extracted_text.csv', encoding='utf-8')\n",
    "data.columns = map(str.lower, data.columns)\n",
    "\n",
    "data.head(6)"
   ]
  },
  {
   "cell_type": "code",
   "execution_count": 14,
   "id": "555a5484-a9c0-464c-ae5c-569dc200723d",
   "metadata": {},
   "outputs": [
    {
     "data": {
      "text/plain": [
       "[nan,\n",
       " '.',\n",
       " 'Foi muito tranquilo e rápido',\n",
       " nan,\n",
       " nan,\n",
       " nan,\n",
       " 'Foi tudo ótimo.',\n",
       " 'Muito rápido e objetivo.',\n",
       " 'tudo perfeito',\n",
       " nan,\n",
       " nan,\n",
       " 'Não! Um muito obrigado pela Oportunidade....',\n",
       " 'Me encaixando para a oportunidade de trabalho.',\n",
       " nan,\n",
       " 'Bom',\n",
       " ',',\n",
       " 'o atendimento foi otimo no 10 :)',\n",
       " 'Me contratando....',\n",
       " nan,\n",
       " 'nada...']"
      ]
     },
     "execution_count": 14,
     "metadata": {},
     "output_type": "execute_result"
    }
   ],
   "source": [
    "corpus = data['comentário'].tolist()\n",
    "corpus[0:20]"
   ]
  },
  {
   "cell_type": "code",
   "execution_count": 15,
   "id": "dfee124b-dde3-4cc7-b125-7df428014121",
   "metadata": {},
   "outputs": [],
   "source": [
    "## Corpus Processing\n",
    "\n",
    "### 1. Stop Words and Stemming"
   ]
  },
  {
   "cell_type": "code",
   "execution_count": 16,
   "id": "ece1dfc1-baa6-4975-918e-307dd47844b1",
   "metadata": {},
   "outputs": [],
   "source": [
    "# removes a list of words (ie. stopwords) from a tokenized list.\n",
    "def removeWords(listOfTokens, listOfWords):\n",
    "    return [token for token in listOfTokens if token not in listOfWords]\n",
    "\n",
    "# applies stemming to a list of tokenized words\n",
    "def applyStemming(listOfTokens, stemmer):\n",
    "    return [stemmer.stem(token) for token in listOfTokens]\n",
    "\n",
    "# removes any words composed of less than 2 or more than 21 letters\n",
    "def twoLetters(listOfTokens):\n",
    "    twoLetterWord = []\n",
    "    for token in listOfTokens:\n",
    "        if len(token) <= 2 or len(token) >= 21:\n",
    "            twoLetterWord.append(token)\n",
    "    return twoLetterWord"
   ]
  },
  {
   "cell_type": "code",
   "execution_count": 17,
   "id": "9d55247c-1f35-4202-855f-4b817548fc67",
   "metadata": {},
   "outputs": [],
   "source": [
    "### 2. The main corpus processing function."
   ]
  },
  {
   "cell_type": "code",
   "execution_count": 31,
   "id": "c6dd70ff-2f36-40b4-8639-9307cafa1b50",
   "metadata": {},
   "outputs": [],
   "source": [
    "def processCorpus(corpus, language):\n",
    "    nltk.download('stopwords')\n",
    "    stopwords = nltk.corpus.stopwords.words(language)\n",
    "#     param_stemmer = SnowballStemmer(language)\n",
    "#     countries_list = [line.rstrip('\\n') for line in open('lists/countries.txt')] # Load .txt file line by line\n",
    "#     nationalities_list = [line.rstrip('\\n') for line in open('lists/nationalities.txt')] # Load .txt file line by line\n",
    "#     other_words = [line.rstrip('\\n') for line in open('lists/stopwords_scrapmaker.txt')] # Load .txt file line by line\n",
    "    \n",
    "#     for document in corpus:\n",
    "#         index = corpus.index(document)\n",
    "#         corpus[index] = corpus[index].replace(u'\\ufffd', '8')   # Replaces the ASCII '�' symbol with '8'\n",
    "#         corpus[index] = corpus[index].replace(',', '')          # Removes commas\n",
    "#         corpus[index] = corpus[index].rstrip('\\n')              # Removes line breaks\n",
    "#         corpus[index] = corpus[index].casefold()                # Makes all letters lowercase\n",
    "        \n",
    "#         corpus[index] = re.sub('\\W_',' ', corpus[index])        # removes specials characters and leaves only words\n",
    "#         corpus[index] = re.sub(\"\\S*\\d\\S*\",\" \", corpus[index])   # removes numbers and words concatenated with numbers IE h4ck3r. Removes road names such as BR-381.\n",
    "#         corpus[index] = re.sub(\"\\S*@\\S*\\s?\",\" \", corpus[index]) # removes emails and mentions (words with @)\n",
    "#         corpus[index] = re.sub(r'http\\S+', '', corpus[index])   # removes URLs with http\n",
    "#         corpus[index] = re.sub(r'www\\S+', '', corpus[index])    # removes URLs with www\n",
    "\n",
    "#         listOfTokens = word_tokenize(corpus[index])\n",
    "#         twoLetterWord = twoLetters(listOfTokens)\n",
    "\n",
    "#         listOfTokens = removeWords(listOfTokens, stopwords)\n",
    "#         listOfTokens = removeWords(listOfTokens, twoLetterWord)\n",
    "#         listOfTokens = removeWords(listOfTokens, countries_list)\n",
    "#         listOfTokens = removeWords(listOfTokens, nationalities_list)\n",
    "#         listOfTokens = removeWords(listOfTokens, other_words)\n",
    "        \n",
    "#         listOfTokens = applyStemming(listOfTokens, param_stemmer)\n",
    "#         listOfTokens = removeWords(listOfTokens, other_words)\n",
    "\n",
    "#         corpus[index]   = \" \".join(listOfTokens)\n",
    "#         corpus[index] = unidecode(corpus[index])\n",
    "\n",
    "    return corpus"
   ]
  },
  {
   "cell_type": "code",
   "execution_count": 32,
   "id": "ffd3b557-2fd0-402a-97d8-5ae4bf56af60",
   "metadata": {},
   "outputs": [
    {
     "name": "stderr",
     "output_type": "stream",
     "text": [
      "[nltk_data] Downloading package stopwords to /home/jovyan/nltk_data...\n",
      "[nltk_data]   Package stopwords is already up-to-date!\n"
     ]
    },
    {
     "data": {
      "text/plain": [
       "[nan,\n",
       " '.',\n",
       " 'Foi muito tranquilo e rápido',\n",
       " nan,\n",
       " nan,\n",
       " nan,\n",
       " 'Foi tudo ótimo.',\n",
       " 'Muito rápido e objetivo.',\n",
       " 'tudo perfeito',\n",
       " nan,\n",
       " nan,\n",
       " 'Não! Um muito obrigado pela Oportunidade....',\n",
       " 'Me encaixando para a oportunidade de trabalho.',\n",
       " nan,\n",
       " 'Bom',\n",
       " ',',\n",
       " 'o atendimento foi otimo no 10 :)',\n",
       " 'Me contratando....',\n",
       " nan,\n",
       " 'nada...']"
      ]
     },
     "execution_count": 32,
     "metadata": {},
     "output_type": "execute_result"
    }
   ],
   "source": [
    "language = 'portuguese'\n",
    "corpus = processCorpus(corpus, language)\n",
    "corpus[0:20]"
   ]
  },
  {
   "cell_type": "code",
   "execution_count": null,
   "id": "e9d4a8f7-b4b8-436e-a9ce-aff9cccc09a9",
   "metadata": {},
   "outputs": [],
   "source": []
  }
 ],
 "metadata": {
  "kernelspec": {
   "display_name": "Python 3 (ipykernel)",
   "language": "python",
   "name": "python3"
  },
  "language_info": {
   "codemirror_mode": {
    "name": "ipython",
    "version": 3
   },
   "file_extension": ".py",
   "mimetype": "text/x-python",
   "name": "python",
   "nbconvert_exporter": "python",
   "pygments_lexer": "ipython3",
   "version": "3.9.12"
  }
 },
 "nbformat": 4,
 "nbformat_minor": 5
}
